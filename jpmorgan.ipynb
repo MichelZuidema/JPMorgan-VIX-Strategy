{
 "cells": [
  {
   "cell_type": "markdown",
   "metadata": {},
   "source": [
    "#### JPMorgan Trading Strategy\n",
    "###### This strategy is based on the following article: https://www.bloomberg.com/news/articles/2022-02-08/jpmorgan-strategists-see-sure-fire-sign-it-s-time-to-buy-stocks\n",
    "###### The strategy buys the ^GSPC (S&P500) when the Cboe Volatility Index (VIX) rises by more than 50% of its 1-month moving average."
   ]
  },
  {
   "cell_type": "code",
   "execution_count": 30,
   "metadata": {},
   "outputs": [],
   "source": [
    "import yfinance as yf\n",
    "import numpy as np\n",
    "\n",
    "import pandas as pd\n",
    "from pandas.tseries.offsets import DateOffset"
   ]
  },
  {
   "cell_type": "markdown",
   "metadata": {},
   "source": [
    "#### Get Date\n",
    "###### Put ^VIX data into a dataframe"
   ]
  },
  {
   "cell_type": "code",
   "execution_count": 31,
   "metadata": {},
   "outputs": [
    {
     "name": "stdout",
     "output_type": "stream",
     "text": [
      "[*********************100%***********************]  1 of 1 completed\n"
     ]
    }
   ],
   "source": [
    "vix_df = yf.download('^VIX', end='2022-02-08')"
   ]
  },
  {
   "cell_type": "markdown",
   "metadata": {},
   "source": [
    "#### Prepare Data\n",
    "###### Add moving average"
   ]
  },
  {
   "cell_type": "code",
   "execution_count": 32,
   "metadata": {},
   "outputs": [],
   "source": [
    "vix_df['MA'] = vix_df.Close.rolling('30D').mean()"
   ]
  },
  {
   "cell_type": "markdown",
   "metadata": {},
   "source": [
    "###### Only show the rows where the condition is met and there's month inbetween signals"
   ]
  },
  {
   "cell_type": "code",
   "execution_count": 33,
   "metadata": {},
   "outputs": [],
   "source": [
    "vix_df_filt = vix_df[vix_df.Close > 1.5 * vix_df.MA]\n",
    "\n",
    "series = pd.Series(vix_df_filt.index).diff() / np.timedelta64(1, 'D') >= 30\n",
    "series[0] = True"
   ]
  },
  {
   "cell_type": "code",
   "execution_count": 34,
   "metadata": {},
   "outputs": [
    {
     "data": {
      "text/plain": [
       "(21, 7)"
      ]
     },
     "execution_count": 34,
     "metadata": {},
     "output_type": "execute_result"
    }
   ],
   "source": [
    "signals = vix_df_filt[series.values]\n",
    "signals.shape"
   ]
  },
  {
   "cell_type": "markdown",
   "metadata": {},
   "source": [
    "### S&P500 Data\n",
    "###### Backtest buying the S&P500 whenever we get a buy signal"
   ]
  },
  {
   "cell_type": "code",
   "execution_count": 35,
   "metadata": {},
   "outputs": [
    {
     "name": "stdout",
     "output_type": "stream",
     "text": [
      "[*********************100%***********************]  1 of 1 completed\n"
     ]
    }
   ],
   "source": [
    "sp_df = yf.download('^GSPC', start='1990-01-01', end='2022-02-08')"
   ]
  },
  {
   "cell_type": "code",
   "execution_count": 36,
   "metadata": {},
   "outputs": [],
   "source": [
    "returns = []\n",
    "\n",
    "for i in range(len(signals)):\n",
    "    sub_df = sp_df[(sp_df.index >= signals.index[i]) & \n",
    "                (sp_df.index <= signals.index[i] + DateOffset(months=6))]\n",
    "    returns.append((sub_df.Close.pct_change() + 1).prod())"
   ]
  },
  {
   "cell_type": "code",
   "execution_count": 37,
   "metadata": {},
   "outputs": [
    {
     "data": {
      "text/plain": [
       "0     0.070687\n",
       "1     0.035701\n",
       "2     0.230247\n",
       "3     0.122635\n",
       "4     0.048426\n",
       "5    -0.327113\n",
       "6     0.086602\n",
       "7     0.120685\n",
       "8     0.116117\n",
       "9     0.062629\n",
       "10   -0.026947\n",
       "11    0.111112\n",
       "12    0.074374\n",
       "13    0.072259\n",
       "14    0.036806\n",
       "15    0.252754\n",
       "16    0.172230\n",
       "17    0.063669\n",
       "18    0.173482\n",
       "19   -0.024104\n",
       "20    0.029249\n",
       "dtype: float64"
      ]
     },
     "execution_count": 37,
     "metadata": {},
     "output_type": "execute_result"
    }
   ],
   "source": [
    "pd.Series(returns) - 1"
   ]
  },
  {
   "cell_type": "markdown",
   "metadata": {},
   "source": [
    "### Plot results"
   ]
  },
  {
   "cell_type": "code",
   "execution_count": 38,
   "metadata": {},
   "outputs": [
    {
     "data": {
      "text/plain": [
       "<AxesSubplot:>"
      ]
     },
     "execution_count": 38,
     "metadata": {},
     "output_type": "execute_result"
    },
    {
     "data": {
      "image/png": "[encoded data removed]",
      "text/plain": [
       "<Figure size 432x288 with 1 Axes>"
      ]
     },
     "metadata": {
      "needs_background": "light"
     },
     "output_type": "display_data"
    }
   ],
   "source": [
    "(pd.Series(returns) - 1).plot(kind='bar')"
   ]
  }
 ],
 "metadata": {
  "interpreter": {
   "hash": "ea49a799f7207ac3a113f7401e5fc228c157c6b43c66de15512d2645a99e584d"
  },
  "kernelspec": {
   "display_name": "Python 3.9.12 64-bit (windows store)",
   "language": "python",
   "name": "python3"
  },
  "language_info": {
   "codemirror_mode": {
    "name": "ipython",
    "version": 3
   },
   "file_extension": ".py",
   "mimetype": "text/x-python",
   "name": "python",
   "nbconvert_exporter": "python",
   "pygments_lexer": "ipython3",
   "version": "3.9.12"
  },
  "orig_nbformat": 4
 },
 "nbformat": 4,
 "nbformat_minor": 2
}
